# pyBioCurrent - Demostración Experimental

# 🔁 Requisitos
import numpy as np
import matplotlib.pyplot as plt
from pybiocurrent.signal import BioNode
from pybiocurrent.translate import traducir_binario
from pybiocurrent.utils import calcular_fft, normalizar

# 🧬 1. Crear un nodo biológico simulado
nodo = BioNode(name="Arabidopsis", input_device="Simulado", fs=10)

# 🔍 2. Leer señal bioeléctrica durante 15 segundos
print("📡 Leyendo señal simulada...")
senal = nodo.leer(tiempo=15)

# 📊 3. Visualizar señal cruda
plt.figure(figsize=(10, 4))
plt.plot(senal, label="Señal bioeléctrica")
plt.title("Señal bioeléctrica simulada")
plt.xlabel("Tiempo [muestras]")
plt.ylabel("Amplitud (V)")
plt.grid(True)
plt.legend()
plt.show()

# 📈 4. FFT - Análisis de frecuencia
freqs, fft_vals = calcular_fft(senal, fs=nodo.fs)
plt.figure(figsize=(8, 4))
plt.plot(freqs, fft_vals)
plt.title("Análisis espectral (FFT)")
plt.xlabel("Frecuencia (Hz)")
plt.ylabel("Magnitud")
plt.grid(True)
plt.show()

# 🔤 5. Traducción binaria
mensaje = traducir_binario(senal, umbral=0.015)
print("🧠 Mensaje binario traducido:")
print(mensaje[:100] + "..." if len(mensaje) > 100 else mensaje)

# 🎨 6. Normalización y representación visual tipo mapa de calor
norm = normalizar(senal)
plt.imshow([norm], cmap='viridis', aspect='auto')
plt.title("Visualización artística de señal bioeléctrica")
plt.axis('off')
plt.show()
